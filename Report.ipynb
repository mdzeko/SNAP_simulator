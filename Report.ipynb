{
 "cells": [
  {
   "cell_type": "code",
   "execution_count": 11,
   "metadata": {
    "collapsed": false
   },
   "outputs": [],
   "source": [
    "from anp.ANP import ANP\n",
    "from anp.MatricaUsporedbi import MatricaUsporedbi\n",
    "from anp.MatricaZavisnosti import MatricaZavisnosti\n",
    "from generator.Generetor import Generator\n",
    "from snap.SNAP import SNAP\n",
    "import pandas as pd\n",
    "import numpy as np\n",
    "from scipy.stats import rankdata\n",
    "import csv\n",
    "import ast\n",
    "import matplotlib.pyplot as plt"
   ]
  },
  {
   "cell_type": "code",
   "execution_count": 2,
   "metadata": {},
   "outputs": [],
   "source": [
    "header = ['ANP1', 'ANP2', 'ANP3', 'ANP4', 'SNAP1', 'min_ANP', 'max_ANP',\n",
    "              'R1_min', 'R1_max', 'SNAP1_elem_R1',\n",
    "              'R2_min', 'R2_max', 'SNAP_elem_R2',\n",
    "              'R3_min', 'R3_max', 'SNAP_elem_R3',\n",
    "              'rank_ANP1', 'rank_ANP2', 'rank_ANP3', 'rank_ANP4', 'rank_SNAP1']\n",
    "df = pd.DataFrame(columns=header)"
   ]
  },
  {
   "cell_type": "code",
   "execution_count": 18,
   "metadata": {
    "collapsed": false
   },
   "outputs": [
    {
     "name": "stdout",
     "output_type": "stream",
     "text": [
      "1820\n"
     ]
    }
   ],
   "source": [
    "with open(\"prezivjele.csv\", \"r\") as csvUsporedbe, open(\"zavisnosti.csv\", \"r\") as csvZavisnosti:\n",
    "    usporedbeReader = csv.reader(csvUsporedbe, delimiter=';')\n",
    "    zavisnostiReader = csv.reader(csvZavisnosti, delimiter=';')\n",
    "    counter = 0\n",
    "    for usporedba in usporedbeReader:\n",
    "        usp = MatricaUsporedbi(Generator.izradiMatUsporedbe(ast.literal_eval(usporedba[0]), 4))\n",
    "        for zavisnost in zavisnostiReader:\n",
    "            zav = MatricaZavisnosti(Generator.izradiMatZavisnosti(ast.literal_eval(zavisnost[0]), 4))\n",
    "            anp1 = ANP(usp, zav)\n",
    "            anp1.simulate()\n",
    "            anp2 = ANP(usp, zav)\n",
    "            anp2.simulate(fiktivnaAlt=True, matricaPrijelaza=False)\n",
    "            anp3 = ANP(usp, zav)\n",
    "            anp3.simulate(fiktivnaAlt=False, matricaPrijelaza=True)\n",
    "            anp4 = ANP(usp, zav)\n",
    "            anp4.simulate(matricaPrijelaza=True, fiktivnaAlt=True)\n",
    "            snap = SNAP(usp, zav)\n",
    "            snap.simulate()\n",
    "\n",
    "            anp_array = np.hstack((anp1.tezine, anp2.tezine, anp3.tezine, anp4.tezine))\n",
    "            min_anp = np.amin(anp_array, axis=1)\n",
    "            max_anp = np.amax(anp_array, axis=1)\n",
    "\n",
    "            r1_min = min_anp * 0.9\n",
    "            r1_max = max_anp * 1.1\n",
    "            snap_elem_r1 = np.average(np.logical_and(snap.tezine <= r1_max, snap.tezine >= r1_min))\n",
    "\n",
    "            r2_min = (min_anp - 0.05).clip(min=0) # ako razlika daje rezultat ispod nule, postavi na nulu\n",
    "            r2_max = max_anp + 0.05\n",
    "            snap_elem_r2 = np.average(np.logical_and(snap.tezine <= r2_max, snap.tezine >= r2_min))\n",
    "\n",
    "            r3_min = (min_anp - 0.1).clip(min=0) # ako razlika daje rezultat ispod nule, postavi na nulu\n",
    "            r3_max = max_anp + 0.1\n",
    "            snap_elem_r3 = np.average(np.logical_and(snap.tezine <= r3_max, snap.tezine >= r3_min))\n",
    "\n",
    "            rank_anp1 = rankdata(anp1.tezine, method='ordinal')\n",
    "            rank_anp2 = rankdata(anp2.tezine, method='ordinal')\n",
    "            rank_anp3 = rankdata(anp3.tezine, method='ordinal')\n",
    "            rank_anp4 = rankdata(anp4.tezine, method='ordinal')\n",
    "            rank_snap1 = rankdata(snap.tezine, method='ordinal')\n",
    "\n",
    "            df = df.append(pd.DataFrame([{'ANP1': anp1.tezine.flatten(), 'ANP2': anp2.tezine.flatten(),\n",
    "                                     'ANP3': anp3.tezine.flatten(), 'ANP4': anp4.tezine.flatten(),\n",
    "                                     'SNAP1': snap.tezine.flatten(), 'min_ANP': min_anp, 'max_ANP': max_anp,\n",
    "                                     'R1_min': r1_min, 'R1_max': r1_max, 'SNAP1_elem_R1': snap_elem_r1,\n",
    "                                     'R2_min': r2_min, 'R2_max': r2_max, 'SNAP_elem_R2': snap_elem_r2,\n",
    "                                     'R3_min': r3_min, 'R3_max': r3_max, 'SNAP_elem_R3': snap_elem_r3,\n",
    "                                     'rank_ANP1': rank_anp1, 'rank_ANP2': rank_anp2, 'rank_ANP3': rank_anp3,\n",
    "                                     'rank_ANP4': rank_anp4, 'rank_SNAP1': rank_snap1}]))\n",
    "            counter += 1\n",
    "    \n",
    "    print(counter)\n"
   ]
  },
  {
   "cell_type": "code",
   "execution_count": 12,
   "metadata": {
    "collapsed": false
   },
   "outputs": [
    {
     "data": {
      "text/plain": [
       "<matplotlib.figure.Figure at 0x1028c990>"
      ]
     },
     "execution_count": 12,
     "metadata": {},
     "output_type": "execute_result"
    },
    {
     "data": {
      "image/png": "[encoded data removed]",
      "text/plain": [
       "<matplotlib.figure.Figure at 0x1023b8b0>"
      ]
     },
     "metadata": {},
     "output_type": "display_data"
    },
    {
     "data": {
      "text/plain": [
       "<matplotlib.figure.Figure at 0x1028c990>"
      ]
     },
     "execution_count": 0,
     "metadata": {},
     "output_type": "execute_result"
    }
   ],
   "source": [
    "df['SNAP1_elem_R1'].diff().hist(color='k', alpha=0.5, bins=10)\n",
    "plt.figure()"
   ]
  },
  {
   "cell_type": "code",
   "execution_count": 16,
   "metadata": {},
   "outputs": [
    {
     "data": {
      "text/plain": [
       "<matplotlib.figure.Figure at 0x12513b10>"
      ]
     },
     "execution_count": 16,
     "metadata": {},
     "output_type": "execute_result"
    },
    {
     "data": {
      "image/png": "[encoded data removed]",
      "text/plain": [
       "<matplotlib.figure.Figure at 0x12513b90>"
      ]
     },
     "metadata": {},
     "output_type": "display_data"
    },
    {
     "data": {
      "text/plain": [
       "<matplotlib.figure.Figure at 0x12513b10>"
      ]
     },
     "execution_count": 0,
     "metadata": {},
     "output_type": "execute_result"
    }
   ],
   "source": [
    "df['SNAP1_elem_R1'].plot.kde()\n",
    "plt.figure()"
   ]
  },
  {
   "cell_type": "code",
   "execution_count": 17,
   "metadata": {},
   "outputs": [
    {
     "data": {
      "text/plain": [
       "38220"
      ]
     },
     "execution_count": 17,
     "metadata": {},
     "output_type": "execute_result"
    }
   ],
   "source": [
    ""
   ]
  },
  {
   "cell_type": "code",
   "execution_count": null,
   "metadata": {},
   "outputs": [],
   "source": []
  }
 ],
 "metadata": {
  "kernelspec": {
   "display_name": "Python 2",
   "language": "python",
   "name": "python2"
  },
  "language_info": {
   "codemirror_mode": {
    "name": "ipython",
    "version": 2
   },
   "file_extension": ".py",
   "mimetype": "text/x-python",
   "name": "python",
   "nbconvert_exporter": "python",
   "pygments_lexer": "ipython2",
   "version": "2.7.6"
  }
 },
 "nbformat": 4,
 "nbformat_minor": 0
}
